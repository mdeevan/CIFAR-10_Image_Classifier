{
 "cells": [
  {
   "cell_type": "markdown",
   "metadata": {
    "id": "-BPxS9pGMfMp"
   },
   "source": [
    "# Introduction\n",
    "\n",
    "In this project, you will build a neural network of your own design to evaluate the CIFAR-10 dataset.\n",
    "\n",
    "To meet the requirements for this project, you will need to achieve an accuracy greater than 45%.\n",
    "If you want to beat Detectocorp's algorithm, you'll need to achieve an accuracy greater than 70%.\n",
    "(Beating Detectocorp's algorithm is not a requirement for passing this project, but you're encouraged to try!)\n",
    "\n",
    "Some of the benchmark results on CIFAR-10 include:\n",
    "\n",
    "78.9% Accuracy | [Deep Belief Networks; Krizhevsky, 2010](https://www.cs.toronto.edu/~kriz/conv-cifar10-aug2010.pdf)\n",
    "\n",
    "90.6% Accuracy | [Maxout Networks; Goodfellow et al., 2013](https://arxiv.org/pdf/1302.4389.pdf)\n",
    "\n",
    "96.0% Accuracy | [Wide Residual Networks; Zagoruyko et al., 2016](https://arxiv.org/pdf/1605.07146.pdf)\n",
    "\n",
    "99.0% Accuracy | [GPipe; Huang et al., 2018](https://arxiv.org/pdf/1811.06965.pdf)\n",
    "\n",
    "98.5% Accuracy | [Rethinking Recurrent Neural Networks and other Improvements for ImageClassification; Nguyen et al., 2020](https://arxiv.org/pdf/2007.15161.pdf)\n",
    "\n",
    "Research with this dataset is ongoing. Notably, many of these networks are quite large and quite expensive to train.\n",
    "\n",
    "## Imports"
   ]
  },
  {
   "cell_type": "code",
   "execution_count": 1,
   "metadata": {
    "id": "YaCZ1dxHMfMr"
   },
   "outputs": [],
   "source": [
    "## This cell contains the essential imports you will need – DO NOT CHANGE THE CONTENTS! ##\n",
    "import torch\n",
    "import torch.nn as nn\n",
    "import torch.nn.functional as F\n",
    "import torch.optim as optim\n",
    "import torchvision\n",
    "import torchvision.transforms as transforms\n",
    "import matplotlib.pyplot as plt\n",
    "import numpy as np"
   ]
  },
  {
   "cell_type": "markdown",
   "metadata": {
    "id": "8e_ZI2efMfMs"
   },
   "source": [
    "## Load the Dataset\n",
    "\n",
    "Specify your transforms as a list first.\n",
    "The transforms module is already loaded as `transforms`.\n",
    "\n",
    "CIFAR-10 is fortunately included in the torchvision module.\n",
    "Then, you can create your dataset using the `CIFAR10` object from `torchvision.datasets` ([the documentation is available here](https://pytorch.org/docs/stable/torchvision/datasets.html#cifar)).\n",
    "Make sure to specify `download=True`!\n",
    "\n",
    "Once your dataset is created, you'll also need to define a `DataLoader` from the `torch.utils.data` module for both the train and the test set."
   ]
  },
  {
   "cell_type": "code",
   "execution_count": 2,
   "metadata": {
    "colab": {
     "base_uri": "https://localhost:8080/"
    },
    "id": "FwQyzhAHMfMt",
    "outputId": "77486aa1-5644-4b68-d816-d10d249667e6"
   },
   "outputs": [
    {
     "name": "stdout",
     "output_type": "stream",
     "text": [
      "Downloading https://www.cs.toronto.edu/~kriz/cifar-10-python.tar.gz to root/cifar-10-python.tar.gz\n"
     ]
    },
    {
     "name": "stderr",
     "output_type": "stream",
     "text": [
      "100%|██████████| 170M/170M [00:05<00:00, 31.0MB/s]\n"
     ]
    },
    {
     "name": "stdout",
     "output_type": "stream",
     "text": [
      "Extracting root/cifar-10-python.tar.gz to root\n",
      "Files already downloaded and verified\n"
     ]
    }
   ],
   "source": [
    "# Define transforms\n",
    "## YOUR CODE HERE ##\n",
    "transform = transforms.Compose([\n",
    "    transforms.ToTensor(),\n",
    "#     transforms.Grayscale(),\n",
    "    transforms.RandomHorizontalFlip(),\n",
    "#     transforms.RandomRotation(degrees=(10,180)),\n",
    "    transforms.Normalize((0.5,0.5,0.5), (0.5,0.5,0.5)),\n",
    "])\n",
    "\n",
    "BATCH_SIZE = 64\n",
    "\n",
    "# Create training set and define training dataloader\n",
    "## YOUR CODE HERE ##\n",
    "dataset_train = torchvision.datasets.CIFAR10(root=\"root\", download=True, train=True, transform=transform )\n",
    "dataloader_train = torch.utils.data.DataLoader(dataset=dataset_train, shuffle=True, batch_size=BATCH_SIZE)\n",
    "\n",
    "# Create test set and define test dataloader\n",
    "## YOUR CODE HERE ##\n",
    "dataset_test = torchvision.datasets.CIFAR10(root=\"root\", download=True, train=False, transform=transform)\n",
    "dataloader_test = torch.utils.data.DataLoader(dataset=dataset_test, batch_size=BATCH_SIZE, shuffle=True)\n",
    "\n",
    "# The 10 classes in the dataset\n",
    "classes = ('plane', 'car', 'bird', 'cat', 'deer', 'dog', 'frog', 'horse', 'ship', 'truck')"
   ]
  },
  {
   "cell_type": "markdown",
   "metadata": {
    "id": "MkVV0hmCMfMu"
   },
   "source": [
    "## Explore the Dataset\n",
    "Using matplotlib, numpy, and torch, explore the dimensions of your data.\n",
    "\n",
    "You can view images using the `show5` function defined below – it takes a data loader as an argument.\n",
    "Remember that normalized images will look really weird to you! You may want to try changing your transforms to view images.\n",
    "Typically using no transforms other than `toTensor()` works well for viewing – but not as well for training your network.\n",
    "If `show5` doesn't work, go back and check your code for creating your data loaders and your training/test sets."
   ]
  },
  {
   "cell_type": "code",
   "execution_count": 3,
   "metadata": {
    "id": "XuxogSrmMfMu"
   },
   "outputs": [],
   "source": [
    "def show5(img_loader):\n",
    "    dataiter = iter(img_loader)\n",
    "\n",
    "    batch = next(dataiter)\n",
    "    labels = batch[1][0:5]\n",
    "    images = batch[0][0:5]\n",
    "    for i in range(5):\n",
    "        print(classes[labels[i]])\n",
    "\n",
    "        image = images[i].numpy()\n",
    "        plt.imshow(np.rot90(image.T, k=3))\n",
    "        plt.show()"
   ]
  },
  {
   "cell_type": "code",
   "execution_count": 4,
   "metadata": {
    "colab": {
     "base_uri": "https://localhost:8080/"
    },
    "id": "rV-iEkhZMfMu",
    "outputId": "4942ef24-8373-46e0-9be7-aa7a17433db3"
   },
   "outputs": [
    {
     "data": {
      "text/plain": [
       "torch.Size([3, 32, 32])"
      ]
     },
     "execution_count": 4,
     "metadata": {},
     "output_type": "execute_result"
    }
   ],
   "source": [
    "# Explore data\n",
    "## YOUR CODE HERE ##\n",
    "img, lbl = next(iter(dataloader_train))\n",
    "img[0].shape"
   ]
  },
  {
   "cell_type": "code",
   "execution_count": 5,
   "metadata": {
    "colab": {
     "base_uri": "https://localhost:8080/",
     "height": 1000
    },
    "id": "p2OY_cB5MfMv",
    "outputId": "4f568d00-404f-4e20-f6fa-261bb3307976",
    "scrolled": true
   },
   "outputs": [
    {
     "name": "stderr",
     "output_type": "stream",
     "text": [
      "WARNING:matplotlib.image:Clipping input data to the valid range for imshow with RGB data ([0..1] for floats or [0..255] for integers).\n"
     ]
    },
    {
     "name": "stdout",
     "output_type": "stream",
     "text": [
      "horse\n"
     ]
    },
    {
     "data": {
      "image/png": "[encoded data removed]",
      "text/plain": [
       "<Figure size 640x480 with 1 Axes>"
      ]
     },
     "metadata": {},
     "output_type": "display_data"
    },
    {
     "name": "stderr",
     "output_type": "stream",
     "text": [
      "WARNING:matplotlib.image:Clipping input data to the valid range for imshow with RGB data ([0..1] for floats or [0..255] for integers).\n"
     ]
    },
    {
     "name": "stdout",
     "output_type": "stream",
     "text": [
      "truck\n"
     ]
    },
    {
     "data": {
      "image/png": "[encoded data removed]",
      "text/plain": [
       "<Figure size 640x480 with 1 Axes>"
      ]
     },
     "metadata": {},
     "output_type": "display_data"
    },
    {
     "name": "stderr",
     "output_type": "stream",
     "text": [
      "WARNING:matplotlib.image:Clipping input data to the valid range for imshow with RGB data ([0..1] for floats or [0..255] for integers).\n"
     ]
    },
    {
     "name": "stdout",
     "output_type": "stream",
     "text": [
      "horse\n"
     ]
    },
    {
     "data": {
      "image/png": "[encoded data removed]",
      "text/plain": [
       "<Figure size 640x480 with 1 Axes>"
      ]
     },
     "metadata": {},
     "output_type": "display_data"
    },
    {
     "name": "stderr",
     "output_type": "stream",
     "text": [
      "WARNING:matplotlib.image:Clipping input data to the valid range for imshow with RGB data ([0..1] for floats or [0..255] for integers).\n"
     ]
    },
    {
     "name": "stdout",
     "output_type": "stream",
     "text": [
      "horse\n"
     ]
    },
    {
     "data": {
      "image/png": "[encoded data removed]",
      "text/plain": [
       "<Figure size 640x480 with 1 Axes>"
      ]
     },
     "metadata": {},
     "output_type": "display_data"
    },
    {
     "name": "stdout",
     "output_type": "stream",
     "text": [
      "frog\n"
     ]
    },
    {
     "name": "stderr",
     "output_type": "stream",
     "text": [
      "WARNING:matplotlib.image:Clipping input data to the valid range for imshow with RGB data ([0..1] for floats or [0..255] for integers).\n"
     ]
    },
    {
     "data": {
      "image/png": "[encoded data removed]",
      "text/plain": [
       "<Figure size 640x480 with 1 Axes>"
      ]
     },
     "metadata": {},
     "output_type": "display_data"
    }
   ],
   "source": [
    "show5(dataloader_train)"
   ]
  },
  {
   "cell_type": "markdown",
   "metadata": {
    "id": "3XEhxL1rMfMv"
   },
   "source": [
    "## Build your Neural Network\n",
    "Using the layers in `torch.nn` (which has been imported as `nn`) and the `torch.nn.functional` module (imported as `F`), construct a neural network based on the parameters of the dataset.\n",
    "Feel free to construct a model of any architecture – feedforward, convolutional, or even something more advanced!"
   ]
  },
  {
   "cell_type": "code",
   "execution_count": 8,
   "metadata": {
    "id": "JQemrJ9eMfMx"
   },
   "outputs": [],
   "source": [
    "class model_cnn(nn.Module):\n",
    "\n",
    "    def __init__(self):\n",
    "        super().__init__()\n",
    "\n",
    "#         Images Size = 224 x 224\n",
    "#         O = output\n",
    "#         W = Input Width\n",
    "#         S = Stride\n",
    "#         P = Padding\n",
    "#         K = Kernel/Filter\n",
    "\n",
    "#         O = (W-K + 2*P)/S + 1\n",
    "\n",
    "        self.conv1 = nn.Conv2d( in_channels=3, out_channels=24,  kernel_size=3, stride =1, padding=2 )\n",
    "        # O = (32-3 + 2*2)/1 + 1  = 34 ; O/2 = 17\n",
    "\n",
    "        self.conv2 = nn.Conv2d(in_channels=24, out_channels=48, kernel_size=3, stride =1, padding=2)\n",
    "        # O = (17-3 + 2*2)/1 + 1  = 19 ; O/2 = 9 (rounded down from to 9.5)\n",
    "\n",
    "        self.conv3 = nn.Conv2d(in_channels=48, out_channels=96, kernel_size=3, stride =1, padding=2)\n",
    "        # O = (9-3 + 2*2)/1 + 1  = 11 ; O/2 = 5 (rounded down from 5.5)\n",
    "\n",
    "        self.maxpool = nn.MaxPool2d(kernel_size=2, stride=2)\n",
    "\n",
    "        self.batchNorm1 = nn.BatchNorm2d(24)\n",
    "        self.batchNorm2 = nn.BatchNorm2d(48)\n",
    "        self.batchNorm3 = nn.BatchNorm2d(96)\n",
    "\n",
    "        self.fc1 = nn.Linear(96 * 5 * 5, 1024)\n",
    "        self.drop1      = nn.Dropout(0.4)\n",
    "        self.fc2        = nn.Linear(1024, 512)\n",
    "        self.drop2      = nn.Dropout(0.3)\n",
    "        self.fc3        = nn.Linear(512, 128)\n",
    "        self.drop3      = nn.Dropout(0.3)\n",
    "        self.fc4        = nn.Linear(128, 10)\n",
    "        self.logsoftmax = nn.LogSoftmax(dim=1)\n",
    "\n",
    "    def forward(self, x):\n",
    "\n",
    "        x = self.maxpool(F.relu6(self.batchNorm1(self.conv1(x))))\n",
    "        x = self.maxpool(F.relu6(self.batchNorm2(self.conv2(x))))\n",
    "        x = self.maxpool(F.relu6(self.batchNorm3(self.conv3(x))))\n",
    "\n",
    "        x = x.view(x.shape[0], -1)\n",
    "\n",
    "        x = self.drop1(F.relu(self.fc1(x)))\n",
    "        x = self.drop2(F.relu(self.fc2(x)))\n",
    "        x = self.drop3(F.relu(self.fc3(x)))\n",
    "        x = self.logsoftmax((self.fc4(x) ))\n",
    "\n",
    "\n",
    "        return x\n"
   ]
  },
  {
   "cell_type": "code",
   "execution_count": 9,
   "metadata": {
    "colab": {
     "base_uri": "https://localhost:8080/"
    },
    "id": "FtIvE0_VMfMy",
    "outputId": "64436c69-0c4c-4185-a60f-dbc4e19b42ad"
   },
   "outputs": [
    {
     "data": {
      "text/plain": [
       "model_cnn(\n",
       "  (conv1): Conv2d(3, 24, kernel_size=(3, 3), stride=(1, 1), padding=(2, 2))\n",
       "  (conv2): Conv2d(24, 48, kernel_size=(3, 3), stride=(1, 1), padding=(2, 2))\n",
       "  (conv3): Conv2d(48, 96, kernel_size=(3, 3), stride=(1, 1), padding=(2, 2))\n",
       "  (maxpool): MaxPool2d(kernel_size=2, stride=2, padding=0, dilation=1, ceil_mode=False)\n",
       "  (batchNorm1): BatchNorm2d(24, eps=1e-05, momentum=0.1, affine=True, track_running_stats=True)\n",
       "  (batchNorm2): BatchNorm2d(48, eps=1e-05, momentum=0.1, affine=True, track_running_stats=True)\n",
       "  (batchNorm3): BatchNorm2d(96, eps=1e-05, momentum=0.1, affine=True, track_running_stats=True)\n",
       "  (fc1): Linear(in_features=2400, out_features=1024, bias=True)\n",
       "  (drop1): Dropout(p=0.4, inplace=False)\n",
       "  (fc2): Linear(in_features=1024, out_features=512, bias=True)\n",
       "  (drop2): Dropout(p=0.3, inplace=False)\n",
       "  (fc3): Linear(in_features=512, out_features=128, bias=True)\n",
       "  (drop3): Dropout(p=0.3, inplace=False)\n",
       "  (fc4): Linear(in_features=128, out_features=10, bias=True)\n",
       "  (logsoftmax): LogSoftmax(dim=1)\n",
       ")"
      ]
     },
     "execution_count": 9,
     "metadata": {},
     "output_type": "execute_result"
    }
   ],
   "source": [
    "model_cnn()"
   ]
  },
  {
   "cell_type": "markdown",
   "metadata": {
    "id": "r9tz4TDgMfMz"
   },
   "source": [
    "Specify a loss function and an optimizer, and instantiate the model.\n",
    "\n",
    "If you use a less common loss function, please note why you chose that loss function in a comment."
   ]
  },
  {
   "cell_type": "code",
   "execution_count": 10,
   "metadata": {
    "id": "RQMwY65QMfMz"
   },
   "outputs": [],
   "source": [
    "## YOUR CODE HERE ##\n",
    "model = model_cnn()\n",
    "\n",
    "criterion = nn.NLLLoss()\n",
    "# optimizer = optim.SGD( model.parameters(), lr= 0.01, )\n",
    "optimizer = optim.Adam(  model.parameters(), lr= 0.005, )"
   ]
  },
  {
   "cell_type": "markdown",
   "metadata": {
    "id": "pjTa2VXqMfMz"
   },
   "source": [
    "## Running your Neural Network\n",
    "Use whatever method you like to train your neural network, and ensure you record the average loss at each epoch.\n",
    "Don't forget to use `torch.device()` and the `.to()` method for both your model and your data if you are using GPU!\n",
    "\n",
    "If you want to print your loss during each epoch, you can use the `enumerate` function and print the loss after a set number of batches. 250 batches works well for most people!"
   ]
  },
  {
   "cell_type": "code",
   "execution_count": 11,
   "metadata": {
    "colab": {
     "base_uri": "https://localhost:8080/"
    },
    "id": "TODEDoa9MfMz",
    "outputId": "fa030770-8e6e-4f06-dc3a-d4c261806762"
   },
   "outputs": [
    {
     "data": {
      "text/plain": [
       "model_cnn(\n",
       "  (conv1): Conv2d(3, 24, kernel_size=(3, 3), stride=(1, 1), padding=(2, 2))\n",
       "  (conv2): Conv2d(24, 48, kernel_size=(3, 3), stride=(1, 1), padding=(2, 2))\n",
       "  (conv3): Conv2d(48, 96, kernel_size=(3, 3), stride=(1, 1), padding=(2, 2))\n",
       "  (maxpool): MaxPool2d(kernel_size=2, stride=2, padding=0, dilation=1, ceil_mode=False)\n",
       "  (batchNorm1): BatchNorm2d(24, eps=1e-05, momentum=0.1, affine=True, track_running_stats=True)\n",
       "  (batchNorm2): BatchNorm2d(48, eps=1e-05, momentum=0.1, affine=True, track_running_stats=True)\n",
       "  (batchNorm3): BatchNorm2d(96, eps=1e-05, momentum=0.1, affine=True, track_running_stats=True)\n",
       "  (fc1): Linear(in_features=2400, out_features=1024, bias=True)\n",
       "  (drop1): Dropout(p=0.4, inplace=False)\n",
       "  (fc2): Linear(in_features=1024, out_features=512, bias=True)\n",
       "  (drop2): Dropout(p=0.3, inplace=False)\n",
       "  (fc3): Linear(in_features=512, out_features=128, bias=True)\n",
       "  (drop3): Dropout(p=0.3, inplace=False)\n",
       "  (fc4): Linear(in_features=128, out_features=10, bias=True)\n",
       "  (logsoftmax): LogSoftmax(dim=1)\n",
       ")"
      ]
     },
     "execution_count": 11,
     "metadata": {},
     "output_type": "execute_result"
    }
   ],
   "source": [
    "## YOUR CODE HERE ##\n",
    "device = torch.device(\"cuda\" if torch.cuda.is_available() else \"cpu\")\n",
    "\n",
    "model.to(device)"
   ]
  },
  {
   "cell_type": "code",
   "execution_count": 12,
   "metadata": {
    "colab": {
     "base_uri": "https://localhost:8080/"
    },
    "id": "EeqZpGVoNVDo",
    "outputId": "48dc9495-d7bf-49b1-db77-df9bffc37e09"
   },
   "outputs": [
    {
     "name": "stdout",
     "output_type": "stream",
     "text": [
      "cuda\n"
     ]
    }
   ],
   "source": [
    "print(device)"
   ]
  },
  {
   "cell_type": "markdown",
   "metadata": {
    "id": "VclPzkjGMfM0"
   },
   "source": [
    "Plot the training loss (and validation loss/accuracy, if recorded)."
   ]
  },
  {
   "cell_type": "code",
   "execution_count": 13,
   "metadata": {
    "id": "nXAzyKEbhmq2"
   },
   "outputs": [],
   "source": [
    "training_loss = []\n",
    "validation_loss = []\n",
    "accuracy = []\n",
    "prev_accuracy = 0\n"
   ]
  },
  {
   "cell_type": "code",
   "execution_count": 14,
   "metadata": {
    "id": "5JJ-8h0fMfM0"
   },
   "outputs": [],
   "source": [
    "def train_model(epochs : int = 30, prev_accuracy : int =0):\n",
    "    print(device)\n",
    "    # epochs = 30\n",
    "    print(prev_accuracy)\n",
    "\n",
    "    print('training starting ...')\n",
    "    for epoch in range(epochs):\n",
    "\n",
    "        training_running_loss   = 0\n",
    "        validation_running_loss = 0\n",
    "        accuracy_running = 0\n",
    "\n",
    "        if (accuracy_running > prev_accuracy):\n",
    "            print('previous accuracy')\n",
    "\n",
    "    #     print(\"epoch {} of {}\".format(epoch+1, epochs))\n",
    "\n",
    "        model.train()\n",
    "        for idx, (images, labels) in enumerate(dataloader_train, start=1):\n",
    "\n",
    "\n",
    "            images = images.to(device)\n",
    "            labels = labels.to(device)\n",
    "\n",
    "            optimizer.zero_grad()\n",
    "\n",
    "            output = model.forward(images)\n",
    "            loss   = criterion(output, labels  )\n",
    "\n",
    "            loss.backward()\n",
    "            optimizer.step()\n",
    "\n",
    "            training_running_loss +=loss.item()\n",
    "\n",
    "\n",
    "        model.eval()\n",
    "\n",
    "        with torch.no_grad():\n",
    "\n",
    "            validation_running_loss = 0\n",
    "\n",
    "            for images, labels in dataloader_test:\n",
    "\n",
    "                images = images.to(device)\n",
    "                labels = labels.to(device)\n",
    "\n",
    "                output = model.forward(images)\n",
    "                loss = criterion(output, labels)\n",
    "\n",
    "                prob = torch.exp(output)\n",
    "                top_label, top_class = prob.topk(1, dim=1)\n",
    "\n",
    "                equals = top_class == labels.view(*top_class.shape)\n",
    "\n",
    "                accuracy_running += torch.mean(equals.type(torch.FloatTensor)).item()\n",
    "\n",
    "                validation_running_loss += loss.item()\n",
    "\n",
    "        validation_running_loss = validation_running_loss / len(dataloader_test)\n",
    "        training_running_loss   = training_running_loss / len(dataloader_train)\n",
    "        accuracy_running = accuracy_running / len(dataloader_test)\n",
    "\n",
    "        training_loss.append(training_running_loss)\n",
    "        validation_loss.append(validation_running_loss)\n",
    "        accuracy.append(accuracy_running)\n",
    "\n",
    "        save_prompt = \"\"\n",
    "        if (accuracy_running > prev_accuracy):\n",
    "            prev_accuracy = accuracy_running\n",
    "            torch.save(model.state_dict(), 'best_model.pth')\n",
    "            save_prompt = \" best model saved\"\n",
    "\n",
    "\n",
    "        print(\"epoch {} of {}, training loss : {:.3f}, validation loss : {:.3f}, accuracy : {:.3f}, {}\".format(epoch+1,\n",
    "                                                                                               epochs,\n",
    "                                                                                               training_running_loss,\n",
    "                                                                                               validation_running_loss,\n",
    "                                                                                               accuracy_running,\n",
    "                                                                                               save_prompt\n",
    "                                                                                              ))\n",
    "\n",
    "\n",
    "    print('training completed')\n",
    "\n"
   ]
  },
  {
   "cell_type": "code",
   "execution_count": 15,
   "metadata": {
    "colab": {
     "base_uri": "https://localhost:8080/"
    },
    "id": "V3Ierh9SOBvt",
    "outputId": "b08bacc2-8c64-4367-f945-2b1fe2718649"
   },
   "outputs": [
    {
     "name": "stdout",
     "output_type": "stream",
     "text": [
      "cuda\n",
      "0\n",
      "training starting ...\n",
      "epoch 1 of 30, training loss : 1.892, validation loss : 1.572, accuracy : 0.394,  best model saved\n",
      "epoch 2 of 30, training loss : 1.544, validation loss : 1.449, accuracy : 0.466,  best model saved\n",
      "epoch 3 of 30, training loss : 1.396, validation loss : 1.243, accuracy : 0.556,  best model saved\n",
      "epoch 4 of 30, training loss : 1.284, validation loss : 1.176, accuracy : 0.605,  best model saved\n",
      "epoch 5 of 30, training loss : 1.202, validation loss : 1.149, accuracy : 0.603, \n",
      "epoch 6 of 30, training loss : 1.147, validation loss : 1.070, accuracy : 0.641,  best model saved\n",
      "epoch 7 of 30, training loss : 1.098, validation loss : 1.031, accuracy : 0.643,  best model saved\n",
      "epoch 8 of 30, training loss : 1.063, validation loss : 0.959, accuracy : 0.688,  best model saved\n",
      "epoch 9 of 30, training loss : 1.030, validation loss : 0.935, accuracy : 0.688,  best model saved\n",
      "epoch 10 of 30, training loss : 1.003, validation loss : 0.951, accuracy : 0.690,  best model saved\n",
      "epoch 11 of 30, training loss : 0.985, validation loss : 0.945, accuracy : 0.690,  best model saved\n",
      "epoch 12 of 30, training loss : 0.965, validation loss : 0.900, accuracy : 0.692,  best model saved\n",
      "epoch 13 of 30, training loss : 0.943, validation loss : 0.898, accuracy : 0.709,  best model saved\n",
      "epoch 14 of 30, training loss : 0.927, validation loss : 0.882, accuracy : 0.702, \n",
      "epoch 15 of 30, training loss : 0.912, validation loss : 0.873, accuracy : 0.701, \n",
      "epoch 16 of 30, training loss : 0.895, validation loss : 0.865, accuracy : 0.714,  best model saved\n",
      "epoch 17 of 30, training loss : 0.904, validation loss : 0.879, accuracy : 0.710, \n",
      "epoch 18 of 30, training loss : 0.884, validation loss : 0.877, accuracy : 0.714,  best model saved\n",
      "epoch 19 of 30, training loss : 0.881, validation loss : 0.825, accuracy : 0.730,  best model saved\n",
      "epoch 20 of 30, training loss : 0.867, validation loss : 0.825, accuracy : 0.733,  best model saved\n",
      "epoch 21 of 30, training loss : 0.858, validation loss : 0.852, accuracy : 0.726, \n",
      "epoch 22 of 30, training loss : 0.869, validation loss : 0.803, accuracy : 0.736,  best model saved\n",
      "epoch 23 of 30, training loss : 0.837, validation loss : 0.851, accuracy : 0.720, \n",
      "epoch 24 of 30, training loss : 0.823, validation loss : 0.780, accuracy : 0.751,  best model saved\n",
      "epoch 25 of 30, training loss : 0.833, validation loss : 0.898, accuracy : 0.703, \n",
      "epoch 26 of 30, training loss : 0.816, validation loss : 0.837, accuracy : 0.728, \n",
      "epoch 27 of 30, training loss : 0.823, validation loss : 0.795, accuracy : 0.744, \n",
      "epoch 28 of 30, training loss : 0.810, validation loss : 0.769, accuracy : 0.751,  best model saved\n",
      "epoch 29 of 30, training loss : 0.797, validation loss : 0.760, accuracy : 0.758,  best model saved\n",
      "epoch 30 of 30, training loss : 0.800, validation loss : 0.807, accuracy : 0.753, \n",
      "training completed\n"
     ]
    }
   ],
   "source": [
    "train_model(30)"
   ]
  },
  {
   "cell_type": "code",
   "execution_count": 18,
   "metadata": {
    "colab": {
     "base_uri": "https://localhost:8080/"
    },
    "id": "_9-O92tvnTM8",
    "outputId": "1b7e4aca-3917-4c3a-c68b-d2fff167c40f"
   },
   "outputs": [
    {
     "data": {
      "text/plain": [
       "<All keys matched successfully>"
      ]
     },
     "execution_count": 18,
     "metadata": {},
     "output_type": "execute_result"
    }
   ],
   "source": [
    "model.load_state_dict(torch.load('best_model.pth', weights_only=True))"
   ]
  },
  {
   "cell_type": "markdown",
   "metadata": {
    "id": "s9l18jr9MfM1"
   },
   "source": [
    "## Testing your model\n",
    "Using the previously created `DataLoader` for the test set, compute the percentage of correct predictions using the highest probability prediction.\n",
    "\n",
    "If your accuracy is over 70%, great work!\n",
    "This is a hard task to exceed 70% on.\n",
    "\n",
    "If your accuracy is under 45%, you'll need to make improvements.\n",
    "Go back and check your model architecture, loss function, and optimizer to make sure they're appropriate for an image classification task."
   ]
  },
  {
   "cell_type": "code",
   "execution_count": 20,
   "metadata": {
    "colab": {
     "base_uri": "https://localhost:8080/"
    },
    "id": "T1GC3t60MfM1",
    "outputId": "80ba1927-7154-4ae3-b84b-a35492bc3dbd"
   },
   "outputs": [
    {
     "name": "stdout",
     "output_type": "stream",
     "text": [
      "0.7596536624203821\n"
     ]
    }
   ],
   "source": [
    "## YOUR CODE HERE ##\n",
    "\n",
    "def test_model():\n",
    "  probs_list = []\n",
    "  labels_list = []\n",
    "  equal_list = []\n",
    "\n",
    "  accuracy = 0\n",
    "  model.eval()\n",
    "  with torch.no_grad():\n",
    "      for images, labels in dataloader_test:\n",
    "\n",
    "          images = images.to(device)\n",
    "          labels  = labels.to(device)\n",
    "\n",
    "          output = model.forward(images)\n",
    "          loss = criterion(output, labels)\n",
    "\n",
    "          prob = torch.exp(output)\n",
    "          top_label, top_class = prob.topk(1, dim=1)\n",
    "\n",
    "          equals = top_class == labels.view(*top_class.shape)\n",
    "          accuracy += torch.mean(equals.type(torch.FloatTensor)).item()\n",
    "\n",
    "          equal_list.append(equals.squeeze().cpu().detach().numpy() )\n",
    "\n",
    "\n",
    "  return probs_list, labels_list, equal_list, accuracy/len(dataloader_test)\n",
    "\n",
    "probs, labels, equal_list, accuracy = test_model()\n",
    "print(accuracy)"
   ]
  },
  {
   "cell_type": "markdown",
   "metadata": {
    "id": "Wlhrn9_FMfM2"
   },
   "source": [
    "## Saving your model\n",
    "Using `torch.save`, save your model for future loading."
   ]
  },
  {
   "cell_type": "code",
   "execution_count": 21,
   "metadata": {
    "id": "ocJJGLGJMfM2"
   },
   "outputs": [],
   "source": [
    "## YOUR CODE HERE ##\n",
    "checkpoint = {'input_size' : 3072,\n",
    "              'hidden_size': [1024, 512, 256, 128],\n",
    "              'output_size': 10,\n",
    "              'state_dict' : model.state_dict()}\n",
    "torch.save(checkpoint, 'checkpoint.pth')"
   ]
  },
  {
   "cell_type": "markdown",
   "metadata": {
    "id": "k1vWsSoxMfM2"
   },
   "source": [
    "## Make a Recommendation\n",
    "\n",
    "Based on your evaluation, what is your recommendation on whether to build or buy? Explain your reasoning below.\n",
    "\n",
    "Some things to consider as you formulate your recommendation:\n",
    "* How does your model compare to Detectocorp's model?\n",
    "* How does it compare to the far more advanced solutions in the literature?\n",
    "* What did you do to get the accuracy you achieved?\n",
    "* Is it necessary to improve this accuracy? If so, what sort of work would be involved in improving it?"
   ]
  },
  {
   "cell_type": "markdown",
   "metadata": {
    "id": "lYBGR5znMfM3"
   },
   "source": [
    "\n",
    "\n",
    "**Double click this cell to modify it**\n",
    "\n",
    "\n",
    "My convolution neural network attained the accuracy of 75.96%, which is above the 70% threshold\n",
    "\n",
    "Maxout Networks; Goodfellow et al., 2013 : The model introduced maxout activation function (maxout ounit) (https://arxiv.org/pdf/1302.4389)\n",
    "\n",
    "In my CNN model, I made use of 3 convolutional layers, batch normalization, ReLU activation and a varying dropout rates from .40 to .30\n",
    "\n",
    "my model still makes error in little over 24% of the times. Training for additional epochs, modifying the optimizer and the learning rate, increase sample size are few ways to help evaluate and improve the accuracy\n"
   ]
  },
  {
   "cell_type": "markdown",
   "metadata": {
    "id": "QsyiHFOmMfM3"
   },
   "source": [
    "## Submit Your Project\n",
    "\n",
    "When you are finished editing the notebook and are ready to turn it in, simply click the **SUBMIT PROJECT** button in the lower right.\n",
    "\n",
    "Once you submit your project, we'll review your work and give you feedback if there's anything that you need to work on. If you'd like to see the exact points that your reviewer will check for when looking at your work, you can have a look over the project [rubric](https://review.udacity.com/#!/rubrics/3077/view)."
   ]
  }
 ],
 "metadata": {
  "colab": {
   "provenance": []
  },
  "kernelspec": {
   "display_name": "Python 3 (ipykernel)",
   "language": "python",
   "name": "python3"
  },
  "language_info": {
   "codemirror_mode": {
    "name": "ipython",
    "version": 3
   },
   "file_extension": ".py",
   "mimetype": "text/x-python",
   "name": "python",
   "nbconvert_exporter": "python",
   "pygments_lexer": "ipython3",
   "version": "3.10.11"
  }
 },
 "nbformat": 4,
 "nbformat_minor": 1
}
